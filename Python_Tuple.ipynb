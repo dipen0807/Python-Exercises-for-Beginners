{
 "cells": [
  {
   "cell_type": "markdown",
   "metadata": {},
   "source": [
    "**1. Python program to create a list of tuples from given list having number and its cube in each tuple**\n",
    "\n",
    "Input: list = [1, 2, 3]\n",
    "Output: [(1, 1), (2, 8), (3, 27)]\n",
    "\n",
    "Input: list = [9, 5, 6]\n",
    "Output: [(9, 729), (5, 125), (6, 216)]"
   ]
  },
  {
   "cell_type": "code",
   "execution_count": 1,
   "metadata": {},
   "outputs": [
    {
     "name": "stdout",
     "output_type": "stream",
     "text": [
      "[1, 2, 3]\n",
      "[(1, 1), (2, 8), (3, 27)]\n"
     ]
    }
   ],
   "source": [
    "inputLst = [1, 2, 3]\n",
    "outputLst = []\n",
    "\n",
    "for ele in inputLst:\n",
    "    t = (ele, ele**3)\n",
    "    outputLst.append(t)\n",
    "\n",
    "print(inputLst)\n",
    "print(outputLst)"
   ]
  },
  {
   "cell_type": "markdown",
   "metadata": {},
   "source": [
    "**2. Python | Remove duplicate tuples from list of tuples**\n",
    "\n",
    "Input : [(1, 2), (5, 7), (3, 6), (1, 2)]\n",
    "Output : [(1, 2), (5, 7), (3, 6)]\n",
    "\n",
    "Input : [('a', 'z'), ('a', 'x'), ('z', 'x'), ('a', 'x'), ('z', 'x')]\n",
    "Output : [('a', 'z'), ('a', 'x'), ('z', 'x')]"
   ]
  },
  {
   "cell_type": "code",
   "execution_count": 2,
   "metadata": {},
   "outputs": [
    {
     "name": "stdout",
     "output_type": "stream",
     "text": [
      "[('a', 'z'), ('a', 'x'), ('z', 'x')]\n"
     ]
    }
   ],
   "source": [
    "ilst = [('a', 'z'), ('a', 'x'), ('z', 'x'), ('a', 'x'), ('z', 'x')]\n",
    "olst = []\n",
    "\n",
    "# set that keeps track of what elements have been added\n",
    "tempSet = set()\n",
    "\n",
    "for ele in ilst:\n",
    "    \n",
    "    if ele not in tempSet:\n",
    "        tempSet.add(ele)\n",
    "        olst.append(ele)\n",
    "        \n",
    "print(olst)\n"
   ]
  },
  {
   "cell_type": "code",
   "execution_count": 3,
   "metadata": {},
   "outputs": [
    {
     "name": "stdout",
     "output_type": "stream",
     "text": [
      "[('z', 'x'), ('a', 'z'), ('a', 'x')]\n"
     ]
    }
   ],
   "source": [
    "inputLst = [('a', 'z'), ('a', 'x'), ('z', 'x'), ('a', 'x'), ('z', 'x')]\n",
    "tempSet1 = set(inputLst)\n",
    "outputLst = list(tempSet1)\n",
    "\n",
    "print(outputLst)"
   ]
  },
  {
   "cell_type": "markdown",
   "metadata": {},
   "source": [
    "**3. Python | Reverse each tuple in a list of tuples**\n",
    "\n",
    "Input : [(1, 2), (3, 4, 5), (6, 7, 8, 9)]\n",
    "Output : [(2, 1), (5, 4, 3), (9, 8, 7, 6)]\n",
    "\n",
    "Input : [('a', 'b'), ('x', 'y'), ('m', 'n')]\n",
    "Output : [('b', 'a'), ('y', 'x'), ('n', 'm')]"
   ]
  },
  {
   "cell_type": "code",
   "execution_count": 4,
   "metadata": {},
   "outputs": [
    {
     "name": "stdout",
     "output_type": "stream",
     "text": [
      "[(2, 1), (5, 4, 3), (9, 8, 7, 6)]\n"
     ]
    }
   ],
   "source": [
    "inputLst = [(1, 2), (3, 4, 5), (6, 7, 8, 9)]\n",
    "\n",
    "for i, ele in enumerate(inputLst):\n",
    "    inputLst[i] = ele[::-1]\n",
    "\n",
    "print(inputLst)"
   ]
  },
  {
   "cell_type": "markdown",
   "metadata": {},
   "source": [
    "**4. Python | Remove tuples having duplicate first value from given list of tuples**\n",
    "\n",
    "Given a list of tuples, the task is to remove all tuples having duplicate first values from the given list of tuples.\n",
    "\n",
    "Input:  [(12.121, 'Tuple1'), (12.121, 'Tuple2'), \n",
    "         (12.121, 'Tuple3'), (923232.2323, 'Tuple4')]\n",
    "Output:  [(12.121, 'Tuple1'), (923232.2323, 'Tuple4')]\n",
    "\n",
    "Input:  [('Tuple1', 121), ('Tuple2', 125), \n",
    "         ('Tuple1', 135), ('Tuple4', 478)]\n",
    "Output:  [('Tuple1', 121), ('Tuple2', 125), ('Tuple4', 478)]\n",
    "\n",
    "https://www.geeksforgeeks.org/python-remove-tuples-having-duplicate-first-value-from-given-list-of-tuples/"
   ]
  },
  {
   "cell_type": "code",
   "execution_count": 5,
   "metadata": {},
   "outputs": [
    {
     "name": "stdout",
     "output_type": "stream",
     "text": [
      "[('Tuple1', 121), ('Tuple2', 125), ('Tuple1', 135), ('Tuple4', 478)]\n",
      "[('Tuple1', 121), ('Tuple2', 125), ('Tuple4', 478)]\n"
     ]
    }
   ],
   "source": [
    "inputLst =  [('Tuple1', 121), ('Tuple2', 125), ('Tuple1', 135), ('Tuple4', 478)]\n",
    "outputLst = []\n",
    "tempSet = set()\n",
    "\n",
    "for ele in inputLst:\n",
    "    if ele[0] not in tempSet:\n",
    "        tempSet.add(ele[0])\n",
    "        outputLst.append(ele)\n",
    "        \n",
    "print(inputLst)\n",
    "print(outputLst)"
   ]
  },
  {
   "cell_type": "markdown",
   "metadata": {},
   "source": [
    "**5. Python | Count tuples occurrence in list of tuples**\n",
    "\n",
    "Input = [[('hi', 'bye')], [('Geeks', 'forGeeks')], [('a', 'b')], [('hi', 'bye')], [('a', 'b')]]\n",
    "Output =  {('Geeks', 'forGeeks'): 1, ('hi', 'bye'): 2, ('a', 'b'): 2})\n",
    "\n",
    "https://www.geeksforgeeks.org/python-count-tuples-occurrence-in-list-of-tuples/"
   ]
  },
  {
   "cell_type": "code",
   "execution_count": 6,
   "metadata": {},
   "outputs": [
    {
     "name": "stdout",
     "output_type": "stream",
     "text": [
      "{(('hi', 'bye'),): 2, (('Geeks', 'forGeeks'),): 1, (('a', 'b'),): 2}\n"
     ]
    }
   ],
   "source": [
    "inputLst =  [[('hi', 'bye')], [('Geeks', 'forGeeks')], [('a', 'b')], [('hi', 'bye')], [('a', 'b')]]\n",
    "sum = 0\n",
    "outputDict = {}\n",
    "\n",
    "for ele in inputLst:\n",
    "    for ele2 in inputLst:\n",
    "        if ele == ele2:\n",
    "            sum = sum + 1\n",
    "    outputDict[tuple(ele)] = sum\n",
    "    sum = 0\n",
    "    \n",
    "print(outputDict)"
   ]
  },
  {
   "cell_type": "markdown",
   "metadata": {},
   "source": [
    "**6. Python | Remove tuples from list of tuples if greater than n**\n",
    "\n",
    "https://www.geeksforgeeks.org/python-remove-tuples-from-list-of-tuples-if-greater-than-n/"
   ]
  },
  {
   "cell_type": "code",
   "execution_count": 7,
   "metadata": {},
   "outputs": [
    {
     "name": "stdout",
     "output_type": "stream",
     "text": [
      "[('b', 100), ('c', 45), ('e', 75)]\n"
     ]
    }
   ],
   "source": [
    "inputLst = [('b', 100), ('c', 200), ('c', 45), ('d', 876), ('e', 75)]\n",
    "\n",
    "for ele in inputLst:\n",
    "    if ele[1] > 100:\n",
    "        inputLst.remove(ele)\n",
    "\n",
    "print(inputLst)"
   ]
  },
  {
   "cell_type": "markdown",
   "metadata": {},
   "source": [
    "**7. Python | Find the tuples containing the given element from a list of tuples**\n",
    "\n",
    "Given a list of tuples, the task is to find all those tuples containing the given element, say n.\n",
    "\n",
    "Examples:\n",
    "\n",
    "Input: n = 11, list = [(11, 22), (33, 55), (55, 77), (11, 44)]\n",
    "Output: [(11, 22), (11, 44)]\n",
    "\n",
    "Input: n = 3, list = [(14, 3),(23, 41),(33, 62),(1, 3),(3, 3)]\n",
    "Output: [(14, 3), (1, 3), (3, 3)]\n",
    "\n",
    "https://www.geeksforgeeks.org/python-find-the-tuples-containing-the-given-element-from-a-list-of-tuples/"
   ]
  },
  {
   "cell_type": "code",
   "execution_count": 15,
   "metadata": {},
   "outputs": [
    {
     "name": "stdout",
     "output_type": "stream",
     "text": [
      "[(11, 22), (11, 44)]\n"
     ]
    }
   ],
   "source": [
    "inputLst = [(11, 22), (33, 55), (55, 77), (11, 44)]\n",
    "outputLst = []\n",
    "n = 11\n",
    "\n",
    "for ele in inputLst:\n",
    "    if (n == ele[0]) or (n == ele[1]):\n",
    "        outputLst.append(ele)\n",
    "        \n",
    "print(outputLst)"
   ]
  },
  {
   "cell_type": "markdown",
   "metadata": {},
   "source": [
    "**8. Python | Grouped summation of tuple list**\n",
    "\n",
    "https://www.geeksforgeeks.org/python-grouped-summation-of-tuple-list/"
   ]
  },
  {
   "cell_type": "code",
   "execution_count": 10,
   "metadata": {},
   "outputs": [
    {
     "name": "stdout",
     "output_type": "stream",
     "text": [
      "{'key1': 8, 'key3': 8, 'key2': 9}\n"
     ]
    }
   ],
   "source": [
    "test_list1 = [('key1', 4), ('key3', 6), ('key2', 8)] \n",
    "test_list2 = [('key2', 1), ('key1', 4), ('key3', 2)]\n",
    "test_list3 = dict()\n",
    "sum = 0\n",
    "\n",
    "for ele in test_list1:\n",
    "    for ele2 in test_list2:\n",
    "        if ele[0] == ele2[0]:\n",
    "            sum = sum + ele[1] + ele2[1]\n",
    "    test_list3.update({ele[0]: sum})\n",
    "    sum = 0\n",
    "    \n",
    "print(test_list3)"
   ]
  }
 ],
 "metadata": {
  "kernelspec": {
   "display_name": "Python 3",
   "language": "python",
   "name": "python3"
  },
  "language_info": {
   "codemirror_mode": {
    "name": "ipython",
    "version": 3
   },
   "file_extension": ".py",
   "mimetype": "text/x-python",
   "name": "python",
   "nbconvert_exporter": "python",
   "pygments_lexer": "ipython3",
   "version": "3.7.3"
  }
 },
 "nbformat": 4,
 "nbformat_minor": 2
}
