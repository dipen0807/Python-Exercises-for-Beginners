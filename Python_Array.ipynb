{
 "cells": [
  {
   "cell_type": "markdown",
   "metadata": {},
   "source": [
    "**1. Python Program to find sum of array**"
   ]
  },
  {
   "cell_type": "code",
   "execution_count": 2,
   "metadata": {},
   "outputs": [
    {
     "name": "stdout",
     "output_type": "stream",
     "text": [
      "The sum is 17\n"
     ]
    }
   ],
   "source": [
    "lst = [1,2,5,6,3]\n",
    "\n",
    "def sumOfArray(l):\n",
    "    sum = 0\n",
    "    for i in lst:\n",
    "        sum = sum + i\n",
    "    return sum\n",
    "\n",
    "output = sumOfArray(lst)\n",
    "\n",
    "print(\"The sum is {}\".format(output))\n",
    "    "
   ]
  },
  {
   "cell_type": "code",
   "execution_count": 3,
   "metadata": {},
   "outputs": [
    {
     "name": "stdout",
     "output_type": "stream",
     "text": [
      "The sum is 17\n"
     ]
    }
   ],
   "source": [
    "lst = [1,2,5,6,3]\n",
    "\n",
    "output = sum(lst)\n",
    "print(\"The sum is {}\".format(output))\n"
   ]
  },
  {
   "cell_type": "markdown",
   "metadata": {},
   "source": [
    "**2. Python Program to find largest element in an array**"
   ]
  },
  {
   "cell_type": "code",
   "execution_count": 4,
   "metadata": {},
   "outputs": [
    {
     "name": "stdout",
     "output_type": "stream",
     "text": [
      "The largest number is 13\n"
     ]
    }
   ],
   "source": [
    "lst = [10,2,13,4,12]\n",
    "\n",
    "def largestNum(l):\n",
    "    \n",
    "    max = l[0]\n",
    "    \n",
    "    for i in l:\n",
    "        if max < i:\n",
    "            max = i\n",
    "    return max\n",
    "\n",
    "print(\"The largest number is {}\".format(largestNum(lst)))\n",
    "        "
   ]
  },
  {
   "cell_type": "markdown",
   "metadata": {},
   "source": [
    "**3. Python Program for array rotation**"
   ]
  },
  {
   "cell_type": "code",
   "execution_count": 5,
   "metadata": {},
   "outputs": [
    {
     "name": "stdout",
     "output_type": "stream",
     "text": [
      "[3, 4, 5, 6, 7, 1, 2]\n"
     ]
    }
   ],
   "source": [
    "#Write a function rotate(ar[], d, n) that rotates arr[] of size n by d elements. \n",
    "\n",
    "def rotate(lst, d, n):\n",
    "    \n",
    "    temp1 = []\n",
    "    temp2 = []\n",
    "    \n",
    "    #Separating list [1,2] in temp list\n",
    "    for i in range(d):\n",
    "        temp1.append(lst[i])\n",
    "    \n",
    "    #Separating the [3,4,5,6,7] in other array\n",
    "    for i in range(d, n):\n",
    "        temp2.append(lst[i])\n",
    "    \n",
    "    #Joining them\n",
    "    return temp2+temp1\n",
    "        \n",
    "inputLst = [1,2,3,4,5,6,7]\n",
    "d = 2\n",
    "\n",
    "print(rotate(inputLst,d,len(inputLst)))"
   ]
  },
  {
   "cell_type": "code",
   "execution_count": 6,
   "metadata": {},
   "outputs": [
    {
     "name": "stdout",
     "output_type": "stream",
     "text": [
      "In rverseArray function\n",
      "[2, 1, 3, 4, 5, 6, 7]\n",
      "--------------------------------Function end\n",
      "In rverseArray function\n",
      "[2, 1, 7, 4, 5, 6, 3]\n",
      "In rverseArray function\n",
      "[2, 1, 7, 6, 5, 4, 3]\n",
      "--------------------------------Function end\n",
      "In rverseArray function\n",
      "[3, 1, 7, 6, 5, 4, 2]\n",
      "In rverseArray function\n",
      "[3, 4, 7, 6, 5, 1, 2]\n",
      "In rverseArray function\n",
      "[3, 4, 5, 6, 7, 1, 2]\n",
      "--------------------------------Function end\n",
      "3\n",
      "4\n",
      "5\n",
      "6\n",
      "7\n",
      "1\n",
      "2\n"
     ]
    }
   ],
   "source": [
    "#Second method: Without creating a new array\n",
    "\n",
    "def rverseArray(arr, start, end): \n",
    "    while (start < end): \n",
    "        temp = arr[start] \n",
    "        arr[start] = arr[end] \n",
    "        arr[end] = temp \n",
    "        print(\"In rverseArray function\")\n",
    "        print(arr)\n",
    "        start += 1\n",
    "        end = end-1\n",
    "    print(\"--------------------------------Function end\") \n",
    "    \n",
    "#Function to left rotate arr[] of size n by d \n",
    "def leftRotate(arr, d): \n",
    "    n = len(arr) \n",
    "    rverseArray(arr, 0, d-1) \n",
    "    rverseArray(arr, d, n-1) \n",
    "    rverseArray(arr, 0, n-1) \n",
    "  \n",
    "#Function to print an array \n",
    "def printArray(arr): \n",
    "    for i in range(0, len(arr)): \n",
    "        print(arr[i]) \n",
    "  \n",
    "#Driver function to test above functions \n",
    "arr = [1, 2, 3, 4, 5, 6, 7] \n",
    "leftRotate(arr, 2) #Rotate array\n",
    "printArray(arr) "
   ]
  },
  {
   "cell_type": "markdown",
   "metadata": {},
   "source": [
    "**4. Python Program to Split the array and add the first part to the end**\n",
    "\n",
    "https://www.geeksforgeeks.org/python-program-for-split-the-array-and-add-the-first-part-to-the-end/"
   ]
  },
  {
   "cell_type": "code",
   "execution_count": 7,
   "metadata": {},
   "outputs": [
    {
     "name": "stdout",
     "output_type": "stream",
     "text": [
      "5 6 52 36 12 10 "
     ]
    }
   ],
   "source": [
    "def splitArr(arr, n, k):  \n",
    "    for i in range(0, k):  \n",
    "        x = arr[0] \n",
    "        for j in range(0, n-1): \n",
    "            arr[j] = arr[j + 1] \n",
    "          \n",
    "        arr[n-1] = x \n",
    "          \n",
    "arr = [12, 10, 5, 6, 52, 36] \n",
    "n = len(arr) \n",
    "position = 2\n",
    "  \n",
    "splitArr(arr, n, position) \n",
    "  \n",
    "for i in range(0, n):  \n",
    "    print(arr[i], end = ' ') "
   ]
  },
  {
   "cell_type": "markdown",
   "metadata": {},
   "source": [
    "**5. Python Program for Find remainder of array multiplication divided by n**\n",
    "\n",
    "https://www.geeksforgeeks.org/python-program-for-find-reminder-of-array-multiplication-divided-by-n/"
   ]
  },
  {
   "cell_type": "code",
   "execution_count": 8,
   "metadata": {},
   "outputs": [
    {
     "name": "stdout",
     "output_type": "stream",
     "text": [
      "9\n"
     ]
    }
   ],
   "source": [
    "#Method 1\n",
    "\n",
    "\"\"\"\n",
    "Naive approach: First multiple all the number then take % by n then find the remainder, But in this approach if number is \n",
    "maximum of 2^64 then it give wrong answer.\n",
    "\"\"\"\n",
    "\n",
    "arr = [100, 10, 5, 25, 35, 14] \n",
    "mul = 1\n",
    "n = 11\n",
    "\n",
    "for ele in arr:\n",
    "    mul = mul * ele\n",
    "\n",
    "print(mul%n)"
   ]
  },
  {
   "cell_type": "code",
   "execution_count": 9,
   "metadata": {},
   "outputs": [
    {
     "name": "stdout",
     "output_type": "stream",
     "text": [
      "9\n"
     ]
    }
   ],
   "source": [
    "#Method 2 of GeeksForGeeks\n",
    "\n",
    "\"\"\"\n",
    "Approach that avoids overflow : First take a remainder or individual number like arr[i] % n. Then multiply the remainder with \n",
    "current result. After multiplication, again take remainder to avoid overflow. This works because of distributive properties \n",
    "of modular arithmetic. ( a * b) % c = ( ( a % c ) * ( b % c ) ) % c\n",
    "\"\"\"\n",
    "\n",
    "def findremainder(arr, lens, n): \n",
    "    mul = 1\n",
    "  \n",
    "    # find the individual \n",
    "    # remainder and  \n",
    "    # multiple with mul. \n",
    "    for i in range(lens):  \n",
    "        mul = (mul * (arr[i] % n)) % n \n",
    "      \n",
    "    return mul % n \n",
    "  \n",
    "# Driven code \n",
    "arr = [ 100, 10, 5, 25, 35, 14 ] \n",
    "lens = len(arr) \n",
    "n = 11\n",
    "  \n",
    "# print the remainder \n",
    "# of after multiple \n",
    "# all the numbers \n",
    "print( findremainder(arr, lens, n))"
   ]
  },
  {
   "cell_type": "code",
   "execution_count": null,
   "metadata": {},
   "outputs": [],
   "source": []
  }
 ],
 "metadata": {
  "kernelspec": {
   "display_name": "Python 3",
   "language": "python",
   "name": "python3"
  },
  "language_info": {
   "codemirror_mode": {
    "name": "ipython",
    "version": 3
   },
   "file_extension": ".py",
   "mimetype": "text/x-python",
   "name": "python",
   "nbconvert_exporter": "python",
   "pygments_lexer": "ipython3",
   "version": "3.7.3"
  }
 },
 "nbformat": 4,
 "nbformat_minor": 2
}
