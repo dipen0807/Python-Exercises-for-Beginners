{
 "cells": [
  {
   "cell_type": "markdown",
   "metadata": {},
   "source": [
    "**1. Python | Sort Python Dictionaries by Key or Value**\n",
    "\n",
    "Problem Statement – Here are the major tasks that are needed to be performed.\n",
    "\n",
    "1) Create a dictionary and display its keys alphabetically.\n",
    "2) Display both the keys and values sorted in alphabetical order by the key.\n",
    "3) Same as part (ii), but sorted in alphabetical order by the value."
   ]
  },
  {
   "cell_type": "code",
   "execution_count": 11,
   "metadata": {},
   "outputs": [
    {
     "name": "stdout",
     "output_type": "stream",
     "text": [
      "Input dictionary: \n",
      "{1: 2, 4: 8, 2: 4, 5: 10, 3: 6}\n",
      "\n",
      "Sorted keys are:\n",
      "1 2 3 4 5 "
     ]
    }
   ],
   "source": [
    "my_dict = {1:2, 4:8, 2:4, 5:10, 3:6}\n",
    "print(\"Input dictionary: \\n{0}\\n\".format(my_dict))\n",
    "\n",
    "print(\"Sorted keys are:\")\n",
    "\n",
    "for i in sorted(my_dict.keys()):\n",
    "    print(i, end=\" \")"
   ]
  },
  {
   "cell_type": "code",
   "execution_count": 12,
   "metadata": {},
   "outputs": [
    {
     "name": "stdout",
     "output_type": "stream",
     "text": [
      "Input dictionary: \n",
      "{1: 2, 4: 8, 2: 4, 5: 10, 3: 6}\n",
      "\n",
      "Sorted dictionary:\n",
      "(1, 2) (2, 4) (3, 6) (4, 8) (5, 10) "
     ]
    }
   ],
   "source": [
    "my_dict = {1:2, 4:8, 2:4, 5:10, 3:6}\n",
    "print(\"Input dictionary: \\n{0}\\n\".format(my_dict))\n",
    "\n",
    "print(\"Sorted dictionary by key:\")\n",
    "\n",
    "for i in sorted(my_dict.items()):\n",
    "    print(i, end=\" \")"
   ]
  },
  {
   "cell_type": "code",
   "execution_count": 3,
   "metadata": {},
   "outputs": [
    {
     "name": "stdout",
     "output_type": "stream",
     "text": [
      "Input dictionary: \n",
      "{1: 2, 4: 8, 2: 4, 5: 10, 3: 6}\n",
      "\n",
      "Sorted dictionary by value:\n",
      "(1, 2) (2, 4) (3, 6) (4, 8) (5, 10) "
     ]
    }
   ],
   "source": [
    "from operator import itemgetter\n",
    "\n",
    "my_dict = {1:2, 4:8, 2:4, 5:10, 3:6}\n",
    "print(\"Input dictionary: \\n{0}\\n\".format(my_dict))\n",
    "\n",
    "print(\"Sorted dictionary by value:\")\n",
    "\n",
    "for i in sorted(my_dict.items(), key=operator.itemgetter(1)):\n",
    "    print(i, end=\" \")"
   ]
  },
  {
   "cell_type": "markdown",
   "metadata": {},
   "source": [
    "**2. Python program to find the sum of all items in a dictionary**"
   ]
  },
  {
   "cell_type": "code",
   "execution_count": 7,
   "metadata": {},
   "outputs": [
    {
     "name": "stdout",
     "output_type": "stream",
     "text": [
      "600\n"
     ]
    }
   ],
   "source": [
    "my_dict = {'a': 100, 'b':200, 'c':300}\n",
    "sum = 0\n",
    "\n",
    "for i in my_dict.values():\n",
    "    sum += i\n",
    "\n",
    "print(sum)"
   ]
  },
  {
   "cell_type": "markdown",
   "metadata": {},
   "source": [
    "**3. Python Counter| Find all duplicate characters in string**\n",
    "\n",
    "Input : hello\n",
    "Output : l\n",
    "\n",
    "Input : geeksforgeeeks\n",
    "Output : e g k s\n",
    "\n",
    "https://www.geeksforgeeks.org/python-counter-find-duplicate-characters-string/"
   ]
  },
  {
   "cell_type": "code",
   "execution_count": 27,
   "metadata": {},
   "outputs": [
    {
     "name": "stdout",
     "output_type": "stream",
     "text": [
      "Counter({'l': 2, 'o': 2, 'h': 1, 'e': 1})\n",
      "l o\n"
     ]
    }
   ],
   "source": [
    "from collections import Counter\n",
    "\n",
    "txt = \"helloo\"\n",
    "lst = []\n",
    "print(Counter(txt))\n",
    "\n",
    "for i in Counter(txt):\n",
    "    if Counter(txt)[i] > 1:\n",
    "        lst.append(i)\n",
    "        \n",
    "print(*lst)"
   ]
  }
 ],
 "metadata": {
  "kernelspec": {
   "display_name": "Python 3",
   "language": "python",
   "name": "python3"
  },
  "language_info": {
   "codemirror_mode": {
    "name": "ipython",
    "version": 3
   },
   "file_extension": ".py",
   "mimetype": "text/x-python",
   "name": "python",
   "nbconvert_exporter": "python",
   "pygments_lexer": "ipython3",
   "version": "3.7.3"
  }
 },
 "nbformat": 4,
 "nbformat_minor": 2
}
