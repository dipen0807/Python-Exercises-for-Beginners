{
 "cells": [
  {
   "cell_type": "markdown",
   "metadata": {},
   "source": [
    "**1. Python program to interchange first and last elements in a list**\n",
    "\n",
    "Given a list, write a Python program to swap first and last element of the list."
   ]
  },
  {
   "cell_type": "code",
   "execution_count": 1,
   "metadata": {},
   "outputs": [
    {
     "name": "stdout",
     "output_type": "stream",
     "text": [
      "Original list\n",
      "[2, 5, 3, 7, 8]\n",
      "List after changing the elements\n",
      "[8, 5, 3, 7, 2]\n"
     ]
    }
   ],
   "source": [
    "lst = [2,5,3,7,8]\n",
    "\n",
    "print(\"Original list\")\n",
    "print(lst)\n",
    "\n",
    "temp = lst[0]\n",
    "lst[0] = lst[len(lst)-1]\n",
    "lst[len(lst)-1] =  temp\n",
    "\n",
    "print(\"List after changing the elements\")\n",
    "print(lst)"
   ]
  },
  {
   "cell_type": "markdown",
   "metadata": {},
   "source": [
    "**2. Python program to swap two elements in a list**\n",
    "\n",
    "Given a list in Python and provided the positions of the elements, write a program to swap the two elements in the list.\n",
    "\n",
    "Input : List = [23, 65, 19, 90], pos1 = 1, pos2 = 3\n",
    "Output : [19, 65, 23, 90]\n",
    "\n",
    "Input : List = [1, 2, 3, 4, 5], pos1 = 2, pos2 = 5\n",
    "Output : [1, 5, 3, 4, 2]"
   ]
  },
  {
   "cell_type": "code",
   "execution_count": 3,
   "metadata": {},
   "outputs": [
    {
     "name": "stdout",
     "output_type": "stream",
     "text": [
      "[1, 5, 3, 4, 2]\n"
     ]
    }
   ],
   "source": [
    "def swap(lst,pos1,pos2):\n",
    "    temp = lst[pos1-1]\n",
    "    lst[pos1-1] = lst[pos2-1]\n",
    "    lst[pos2-1] =  temp\n",
    "    \n",
    "    return lst\n",
    "\n",
    "lst = [1, 2, 3, 4, 5]\n",
    "\n",
    "#Calling the function\n",
    "print(swap(lst,2,5))\n"
   ]
  },
  {
   "cell_type": "markdown",
   "metadata": {},
   "source": [
    "**3. Python program to remove Nth occurrence of the given word**\n",
    "\n",
    "Given a list of words in Python, the task is to remove the Nth occurrence of the given word in that list.\n",
    "\n",
    "Examples:\n",
    "\n",
    "Input: list - [\"geeks\", \"for\", \"geeks\"]\n",
    "       word = geeks, N = 2\n",
    "Output: list - [\"geeks\", \"for\"]\n",
    "\n",
    "Input: list - [\"can\", \"you\",  \"can\", \"a\", \"can\" \"?\"]\n",
    "       word = can, N = 1\n",
    "Output: list - [\"you\",  \"can\", \"a\", \"can\" \"?\"]"
   ]
  },
  {
   "cell_type": "code",
   "execution_count": 9,
   "metadata": {},
   "outputs": [
    {
     "name": "stdout",
     "output_type": "stream",
     "text": [
      "['for', 'geeks']\n"
     ]
    }
   ],
   "source": [
    "def removeNthOccurence(lst,word,n):\n",
    "    counter = 0\n",
    "    for i in range(len(lst)):\n",
    "        if lst[i] == word:\n",
    "            counter = counter + 1\n",
    "            if counter == n:\n",
    "                del lst[i]\n",
    "                break\n",
    "    return lst\n",
    "\n",
    "lst = [\"geeks\", \"for\", \"geeks\"]\n",
    "\n",
    "print(removeNthOccurence(lst,\"geeks\",2))\n",
    "    "
   ]
  },
  {
   "cell_type": "markdown",
   "metadata": {},
   "source": [
    "**4. Python | Ways to find length of list**"
   ]
  },
  {
   "cell_type": "code",
   "execution_count": 14,
   "metadata": {},
   "outputs": [
    {
     "name": "stdout",
     "output_type": "stream",
     "text": [
      "lengh is 5\n"
     ]
    }
   ],
   "source": [
    "#also with len(lst)\n",
    "\n",
    "lst = [\"can\", \"you\",  \"can\", \"a\", \"can\"]\n",
    "counter = 0\n",
    "for i in lst:\n",
    "    counter = counter + 1\n",
    "\n",
    "print(\"lengh is {0}\".format(counter))"
   ]
  },
  {
   "cell_type": "markdown",
   "metadata": {},
   "source": [
    "**5. Python | Ways to check if element exists in list**"
   ]
  },
  {
   "cell_type": "code",
   "execution_count": 15,
   "metadata": {},
   "outputs": [
    {
     "name": "stdout",
     "output_type": "stream",
     "text": [
      "The element does exist\n"
     ]
    }
   ],
   "source": [
    "lst = [\"can\", \"you\",  \"can\", \"a\", \"can\"]\n",
    "\n",
    "word = \"a\"\n",
    "\n",
    "if \"a\" in lst:\n",
    "    print(\"The element does exist\")\n",
    "else:\n",
    "    print(\"The elemest does not exist\")"
   ]
  },
  {
   "cell_type": "code",
   "execution_count": null,
   "metadata": {},
   "outputs": [],
   "source": []
  }
 ],
 "metadata": {
  "kernelspec": {
   "display_name": "Python 3",
   "language": "python",
   "name": "python3"
  },
  "language_info": {
   "codemirror_mode": {
    "name": "ipython",
    "version": 3
   },
   "file_extension": ".py",
   "mimetype": "text/x-python",
   "name": "python",
   "nbconvert_exporter": "python",
   "pygments_lexer": "ipython3",
   "version": "3.7.3"
  }
 },
 "nbformat": 4,
 "nbformat_minor": 2
}
