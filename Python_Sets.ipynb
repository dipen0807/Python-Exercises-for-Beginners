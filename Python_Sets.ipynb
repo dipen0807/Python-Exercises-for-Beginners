{
 "cells": [
  {
   "cell_type": "code",
   "execution_count": null,
   "metadata": {},
   "outputs": [],
   "source": [
    "#Creation\n",
    "s = set(0)\n",
    "s = set({1,2,3,1})\n",
    "print(s)\n",
    "\n",
    "#Add/Edit    \n",
    "s.add(\"name\")\n",
    "s.update({2,4,8,5})\n",
    "print(s)\n",
    "\n",
    "#Delete\n",
    "s.discard(2)\n",
    "print(s)"
   ]
  },
  {
   "cell_type": "markdown",
   "metadata": {},
   "source": [
    "**1. Python | Program to accept the strings which contains all vowels**\n",
    "\n",
    "Input : geeksforgeeks\n",
    "Output : Not Accepted\n",
    "\n",
    "Input : ABeeIghiObhkUul\n",
    "Output : Accepted\n",
    "\n",
    "https://www.geeksforgeeks.org/python-program-to-accept-the-strings-which-contains-all-vowels/"
   ]
  },
  {
   "cell_type": "code",
   "execution_count": 13,
   "metadata": {},
   "outputs": [
    {
     "name": "stdout",
     "output_type": "stream",
     "text": [
      "geeksforgeeksgeeksforgeeks\n",
      "{'k', 'e', 'r', 'g', 'o', 'f', 's'}\n",
      "Not accepted\n"
     ]
    }
   ],
   "source": [
    "s = set(input())\n",
    "i = 0\n",
    "\n",
    "print(s)\n",
    "\n",
    "if (('a' or 'A') and ('e' or 'E') and ('i' or 'I') and ('o' or 'O') and ('u' or 'U')) in s:\n",
    "    print(\"Accepted\")\n",
    "else:\n",
    "    print(\"Not accepted\")\n",
    "             "
   ]
  },
  {
   "cell_type": "markdown",
   "metadata": {},
   "source": [
    "**2. Python program to find common elements in three lists using sets**\n",
    "\n",
    "Input : ar1 = [1, 5, 10, 20, 40, 80]\n",
    "        ar2 = [6, 7, 20, 80, 100]\n",
    "        ar3 = [3, 4, 15, 20, 30, 70, 80, 120]\n",
    "\n",
    "Output : [80, 20]\n",
    "\n",
    "Input : ar1 = [1, 5, 5]\n",
    "        ar2 = [3, 4, 5, 5, 10]\n",
    "        ar3 = [5, 5, 10, 20]\n",
    "\n",
    "Output : [5]\n",
    "\n",
    "https://www.geeksforgeeks.org/python-program-find-common-elements-three-lists-using-sets/"
   ]
  },
  {
   "cell_type": "code",
   "execution_count": 17,
   "metadata": {},
   "outputs": [
    {
     "name": "stdout",
     "output_type": "stream",
     "text": [
      "[80, 20]\n"
     ]
    }
   ],
   "source": [
    "ar1 = [1, 5, 10, 20, 40, 80] \n",
    "ar2 = [6, 7, 20, 80, 100] \n",
    "ar3 = [3, 4, 15, 20, 30, 70, 80, 120]\n",
    "\n",
    "print(list((set(ar1).intersection(set(ar2))).intersection(set(ar3))))"
   ]
  },
  {
   "cell_type": "markdown",
   "metadata": {},
   "source": [
    "**3. Python | Find missing and additional values in two lists**\n",
    "\n",
    "geeksforgeeks.org/python-find-missing-additional-values-two-lists/\n",
    "\n",
    "Input : list1 = [1, 2, 3, 4, 5, 6] \n",
    "        list2 = [4, 5, 6, 7, 8] \n",
    "Output : Missing values in list1 = [8, 7] \n",
    "         Additional values in list1 = [1, 2, 3] \n",
    "         Missing values in list2 = [1, 2, 3] \n",
    "         Additional values in list2 = [7, 8] "
   ]
  },
  {
   "cell_type": "code",
   "execution_count": 22,
   "metadata": {},
   "outputs": [
    {
     "name": "stdout",
     "output_type": "stream",
     "text": [
      "Missing values in list1 [8, 7]\n",
      "Additional values in list1 [1, 2, 3]\n",
      "Missing values in list2 [1, 2, 3]\n",
      "Additional values in list2 [8, 7]\n"
     ]
    }
   ],
   "source": [
    "list1 = [1, 2, 3, 4, 5, 6] \n",
    "list2 = [4, 5, 6, 7, 8]\n",
    "\n",
    "print(\"Missing values in list1 {0}\".format(list(set(list2).difference(set(list1)))))\n",
    "print(\"Additional values in list1 {0}\".format(list(set(list1).difference(set(list2)))))\n",
    "print(\"Missing values in list2 {0}\".format(list(set(list1).difference(set(list2)))))\n",
    "print(\"Additional values in list2 {0}\".format(list(set(list2).difference(set(list1)))))"
   ]
  },
  {
   "cell_type": "code",
   "execution_count": null,
   "metadata": {},
   "outputs": [],
   "source": []
  }
 ],
 "metadata": {
  "kernelspec": {
   "display_name": "Python 3",
   "language": "python",
   "name": "python3"
  },
  "language_info": {
   "codemirror_mode": {
    "name": "ipython",
    "version": 3
   },
   "file_extension": ".py",
   "mimetype": "text/x-python",
   "name": "python",
   "nbconvert_exporter": "python",
   "pygments_lexer": "ipython3",
   "version": "3.7.3"
  }
 },
 "nbformat": 4,
 "nbformat_minor": 2
}
