{
 "cells": [
  {
   "cell_type": "markdown",
   "metadata": {},
   "source": [
    "**1. Given a string and an int n, remove characters from string starting from zero up to n and return a new string**"
   ]
  },
  {
   "cell_type": "code",
   "execution_count": 1,
   "metadata": {},
   "outputs": [
    {
     "name": "stdout",
     "output_type": "stream",
     "text": [
      "Enter the sting:dipen\n",
      "Enter the number:3\n",
      "New string is en\n"
     ]
    }
   ],
   "source": [
    "l = list(input(\"Enter the sting:\"))\n",
    "n = int(input(\"Enter the number:\"))\n",
    "\n",
    "for i in range(0,n):\n",
    "    del l[0]\n",
    "\n",
    "s = ''.join(l)\n",
    "print(\"New string is {}\".format(s))"
   ]
  },
  {
   "cell_type": "markdown",
   "metadata": {},
   "source": [
    "**2. Python program to check if a string is palindrome or not**"
   ]
  },
  {
   "cell_type": "code",
   "execution_count": 2,
   "metadata": {},
   "outputs": [
    {
     "name": "stdout",
     "output_type": "stream",
     "text": [
      "Enter a string to check: dipen\n",
      "Not palindrome\n"
     ]
    }
   ],
   "source": [
    "s1 = input(\"Enter a string to check: \")\n",
    "\n",
    "s2 = s1[::-1] #It reverses the string\n",
    "\n",
    "if s1 == s2:\n",
    "    print(\"Palindrome\")\n",
    "else:\n",
    "    print(\"Not palindrome\")"
   ]
  },
  {
   "cell_type": "markdown",
   "metadata": {},
   "source": [
    "**3. Reverse words in a given String in Python**"
   ]
  },
  {
   "cell_type": "code",
   "execution_count": 12,
   "metadata": {},
   "outputs": [
    {
     "name": "stdout",
     "output_type": "stream",
     "text": [
      "Enter the sentence: hello this is dipen\n",
      "dipen is this hello\n"
     ]
    }
   ],
   "source": [
    "\"\"\"split() method returns a list of strings after breaking the given string by the specified separator.\n",
    "\n",
    "Syntax :\n",
    "\n",
    "str.split(separator, maxsplit)\n",
    "Parameters :\n",
    "\n",
    "separator : The is a delimiter. The string splits at this specified separator. If is not provided then any white space is a separator.\n",
    "\n",
    "maxsplit : It is a number, which tells us to split the string into maximum of provided number of times. If it is not provided then there is no limit.\n",
    "\"\"\"\n",
    "\n",
    "s = input(\"Enter the sentence: \")\n",
    "\n",
    "l1 = list(s.split())\n",
    "l2 = []\n",
    "\n",
    "#Reversing the list elements\n",
    "for i in range(0,len(l1)):\n",
    "    l2.append(l1[len(l1)-1-i])\n",
    "    \n",
    "print(\" \".join(l2))\n"
   ]
  },
  {
   "cell_type": "markdown",
   "metadata": {},
   "source": [
    "**4. Ways to remove i’th character from string in Python**"
   ]
  },
  {
   "cell_type": "code",
   "execution_count": 14,
   "metadata": {},
   "outputs": [
    {
     "name": "stdout",
     "output_type": "stream",
     "text": [
      "Enter the string: dipen\n",
      "dien\n"
     ]
    }
   ],
   "source": [
    "#Strings are immutable so we have to create a new string. \n",
    "#https://www.geeksforgeeks.org/python-string-replace/\n",
    "\n",
    "s1 = input(\"Enter the string: \")\n",
    "remove_char = 3\n",
    "\n",
    "s2 = s1.replace(s1[remove_char-1],\"\")\n",
    "print(s2)"
   ]
  },
  {
   "cell_type": "code",
   "execution_count": null,
   "metadata": {},
   "outputs": [],
   "source": []
  }
 ],
 "metadata": {
  "kernelspec": {
   "display_name": "Python 3",
   "language": "python",
   "name": "python3"
  },
  "language_info": {
   "codemirror_mode": {
    "name": "ipython",
    "version": 3
   },
   "file_extension": ".py",
   "mimetype": "text/x-python",
   "name": "python",
   "nbconvert_exporter": "python",
   "pygments_lexer": "ipython3",
   "version": "3.7.3"
  }
 },
 "nbformat": 4,
 "nbformat_minor": 2
}
