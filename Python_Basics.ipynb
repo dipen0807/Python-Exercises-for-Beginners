{
 "cells": [
  {
   "cell_type": "markdown",
   "metadata": {},
   "source": [
    "**1. Largest of threee numbers**"
   ]
  },
  {
   "cell_type": "code",
   "execution_count": 7,
   "metadata": {},
   "outputs": [
    {
     "name": "stdout",
     "output_type": "stream",
     "text": [
      "Enter the number 1:345\n",
      "Enter the number 2:124\n",
      "Enter the number 3:234\n",
      "345.0 is the largest number\n"
     ]
    }
   ],
   "source": [
    "a = float(input(\"Enter the number 1:\"))\n",
    "b = float(input(\"Enter the number 2:\"))\n",
    "c = float(input(\"Enter the number 3:\"))\n",
    "\n",
    "if a>b:\n",
    "    if a>c:\n",
    "        print(\"{} is the largest number\".format(a))\n",
    "    else:\n",
    "        print(\"{} is the largest number\".format(c))\n",
    "else:\n",
    "    if b>c:\n",
    "        print(\"{} is the largest number\".format(b))\n",
    "    else:\n",
    "        print(\"{} is the largest number\".format(c))"
   ]
  },
  {
   "cell_type": "markdown",
   "metadata": {},
   "source": [
    "**2. Find factorial**"
   ]
  },
  {
   "cell_type": "code",
   "execution_count": 3,
   "metadata": {},
   "outputs": [
    {
     "name": "stdout",
     "output_type": "stream",
     "text": [
      "Enter the number:5\n",
      "The factorial of a give number is 120\n"
     ]
    }
   ],
   "source": [
    "num=int(input(\"Enter the number:\"))\n",
    "p=1\n",
    "\n",
    "for i in range(1,num+1,1):\n",
    "    p=p*i\n",
    "    \n",
    "print(\"The factorial of a give number is {}\".format(p))"
   ]
  },
  {
   "cell_type": "markdown",
   "metadata": {},
   "source": [
    "**3. Compound Interest**"
   ]
  },
  {
   "cell_type": "code",
   "execution_count": 4,
   "metadata": {},
   "outputs": [
    {
     "name": "stdout",
     "output_type": "stream",
     "text": [
      "Enter p:1000\n",
      "Enter r:3\n",
      "Enter time in years:1\n",
      "The compound interest is 30.0\n"
     ]
    }
   ],
   "source": [
    "#Compound interest formula\n",
    "\n",
    "'''ci=(p(1+r/100)^t)-p\n",
    "ci=compound interest\n",
    "p=principal amount\n",
    "r=interest rate\n",
    "t=time in years'''\n",
    "\n",
    "p=float(input(\"Enter p:\"))\n",
    "r=float(input(\"Enter r:\"))\n",
    "t=float(input(\"Enter time in years:\"))\n",
    "\n",
    "ci=(p*pow(1+(r/100),t))-p\n",
    "\n",
    "print(\"The compound interest is {}\".format(ci))"
   ]
  },
  {
   "cell_type": "markdown",
   "metadata": {},
   "source": [
    "**4. Quadratic equation**"
   ]
  },
  {
   "cell_type": "code",
   "execution_count": 5,
   "metadata": {},
   "outputs": [
    {
     "name": "stdout",
     "output_type": "stream",
     "text": [
      "Enter a:1\n",
      "Enter b:5\n",
      "Enter c:6\n",
      "Two solutions are (-2+0j) and (-2+0j)\n"
     ]
    }
   ],
   "source": [
    "#importing complex math module\n",
    "\n",
    "import cmath\n",
    "\n",
    "\"\"\"ax2 + bx + c = 0, where\n",
    "a, b and c are real numbers and\n",
    "a ≠ 0\n",
    "\n",
    "x1=(-b+sqaure root of d)/2a\n",
    "x2=(-b-sqaure root of d)/2a\n",
    "\n",
    "where, d=(b**2-4*a*c)\n",
    "\n",
    "\"\"\"\n",
    "\n",
    "a=int(input(\"Enter a:\"))\n",
    "b=int(input(\"Enter b:\"))\n",
    "c=int(input(\"Enter c:\"))\n",
    "\n",
    "d=b**2-4*a*c\n",
    "\n",
    "x1=(-b+cmath.sqrt(d))/2*a\n",
    "x2=(-b+cmath.sqrt(d))/2*a\n",
    "\n",
    "print(\"Two solutions are {0} and {1}\".format(x1,x2))"
   ]
  },
  {
   "cell_type": "markdown",
   "metadata": {},
   "source": [
    "**5. Leap year**"
   ]
  },
  {
   "cell_type": "code",
   "execution_count": 6,
   "metadata": {},
   "outputs": [
    {
     "name": "stdout",
     "output_type": "stream",
     "text": [
      "Enter the year:2000\n",
      "2000 is a leap year\n"
     ]
    }
   ],
   "source": [
    "\"\"\"A leap year is exactly divisible by 4 except for century years (years ending with 00). \n",
    "The century year is a leap year only if it is perfectly divisible by 400.\"\"\"\n",
    "\n",
    "n = int(input(\"Enter the year:\"))\n",
    "\n",
    "if n%4==0:\n",
    "    if n%100==0:\n",
    "        if n%400==0:\n",
    "            print(\"{} is a leap year\".format(n))\n",
    "        else:\n",
    "            print(\"{} is not a leap year\".format(n))\n",
    "    else:\n",
    "        print(\"{} is a leap year\".format(n))\n",
    "else:\n",
    "    print(\"{} is not a leap year\".format(n))"
   ]
  },
  {
   "cell_type": "markdown",
   "metadata": {},
   "source": [
    "**6. Python Program for n-th Fibonacci number**\n",
    "\n",
    "https://www.geeksforgeeks.org/python-program-for-n-th-fibonacci-number/"
   ]
  },
  {
   "cell_type": "code",
   "execution_count": 1,
   "metadata": {},
   "outputs": [
    {
     "name": "stdout",
     "output_type": "stream",
     "text": [
      "Enter the number: 5\n",
      "5\n"
     ]
    }
   ],
   "source": [
    "def fib(num):\n",
    "    \"\"\"\n",
    "    This function gives the Fibonacci number of a given term.\n",
    "    \"\"\"\n",
    "    \n",
    "    if num == 0:\n",
    "        return 0\n",
    "    elif num == 1:\n",
    "        return 1\n",
    "    else:\n",
    "        return fib(num-1) + fib(num-2)\n",
    "        \n",
    "\"\"\"\n",
    "n = 10\n",
    "\n",
    "for i in range(n+1):\n",
    "    print(fib(i))\n",
    "\"\"\"\n",
    "\n",
    "n =  int(input(\"Enter the number: \"))\n",
    "print(fib(n))\n",
    "\n"
   ]
  },
  {
   "cell_type": "markdown",
   "metadata": {},
   "source": [
    "**7. Python Program for How to check if a given number is Fibonacci number?**\n",
    "\n",
    "https://www.geeksforgeeks.org/python-program-for-how-to-check-if-a-given-number-is-fibonacci-number/"
   ]
  },
  {
   "cell_type": "code",
   "execution_count": 2,
   "metadata": {},
   "outputs": [
    {
     "name": "stdout",
     "output_type": "stream",
     "text": [
      "False\n"
     ]
    }
   ],
   "source": [
    "\"\"\"\n",
    "Following is an interesting property about Fibonacci numbers that can also be used to check if a given number is Fibonacci or \n",
    "not. A number is Fibonacci if and only if one or both of (5*n2 + 4) or (5*n2 – 4) is a perfect square.\n",
    "\n",
    "Square numbers are non-negative. Another way of saying that a (non-negative) integer is a square number is that its square \n",
    "root is again an integer. For example, √9 = 3, so 9 is a square number.\n",
    "\"\"\"\n",
    "\n",
    "import math\n",
    "\n",
    "def checkFib(num):\n",
    "    \"\"\"\n",
    "    This function checks if the given number is a finonacci number or not.\n",
    "    \"\"\"\n",
    "    a = (5 * (num*num)) + 4\n",
    "    b = (5 * (num*num)) - 4\n",
    "    \n",
    "    result = True\n",
    "    \n",
    "    if (isPerfectSquare(a) or isPerfectSquare(b)):\n",
    "        #print(\"The number {0} is a fibonacci number\".format(num))\n",
    "        result = True\n",
    "    else:\n",
    "        #print(\"The number {0} is not a fibonacci number\".format(num))\n",
    "        result = False\n",
    "        \n",
    "    return result\n",
    "    \n",
    "def isPerfectSquare(p):\n",
    "    \"\"\"\n",
    "    This function checks if the given number is perfect square or not.\n",
    "    \"\"\"\n",
    "    s = int(math.sqrt(p))\n",
    "    \n",
    "    if s**2 == p:\n",
    "        return True\n",
    "    else:\n",
    "        return False\n",
    "\n",
    "n = 41\n",
    "\n",
    "print(checkFib(n))"
   ]
  },
  {
   "cell_type": "code",
   "execution_count": 3,
   "metadata": {},
   "outputs": [
    {
     "name": "stdout",
     "output_type": "stream",
     "text": [
      "True\n"
     ]
    }
   ],
   "source": [
    "\"\"\"\n",
    "Following is an easy method without remembering the property.\n",
    "\"\"\"\n",
    "\n",
    "def checkFib(num):\n",
    "    \"\"\"\n",
    "    This function checks if the given number is a finonacci number or not.\n",
    "    \"\"\"\n",
    "    m = 0\n",
    "    i = 0\n",
    "    \n",
    "    while (m < num):\n",
    "        m = fib(i)\n",
    "        i = i + 1\n",
    "    \n",
    "    if m == num:\n",
    "        return True\n",
    "    else:\n",
    "        return False\n",
    "\n",
    "def fib(num):\n",
    "    \"\"\"\n",
    "    This function gives the Fibonacci number of a given term.\n",
    "    \"\"\"\n",
    "    \n",
    "    if num == 0:\n",
    "        return 0\n",
    "    elif num == 1:\n",
    "        return 1\n",
    "    else:\n",
    "        return fib(num-1) + fib(num-2)\n",
    "        \n",
    "\n",
    "n = 8\n",
    "\n",
    "print(checkFib(n))"
   ]
  },
  {
   "cell_type": "markdown",
   "metadata": {},
   "source": [
    "**8. Python Program for n\\’th multiple of a number in Fibonacci Series**\n",
    "\n",
    "https://www.geeksforgeeks.org/python-program-for-nth-multiple-of-a-number-in-fibonacci-series/"
   ]
  },
  {
   "cell_type": "code",
   "execution_count": 5,
   "metadata": {},
   "outputs": [
    {
     "name": "stdout",
     "output_type": "stream",
     "text": [
      "34\n",
      "9\n"
     ]
    }
   ],
   "source": [
    "def fib(num):\n",
    "    \"\"\"\n",
    "    This function gives the Fibonacci number of a given term.\n",
    "    \"\"\"\n",
    "    \n",
    "    if num == 0:\n",
    "        return 0\n",
    "    elif num == 1:\n",
    "        return 1\n",
    "    else:\n",
    "        return fib(num-1) + fib(num-2)\n",
    "    \n",
    "def findIndex(m):\n",
    "    \"\"\"\n",
    "    This function returns the index of a given fibonacci number.\n",
    "    \"\"\"\n",
    "    \n",
    "    j = 0\n",
    "    f = 0\n",
    "    \n",
    "    while (m != f):\n",
    "        f = fib(j)\n",
    "        j = j + 1\n",
    "    return j-1\n",
    "\n",
    "k = 2\n",
    "n = 3\n",
    "counter = 0\n",
    "i = 1\n",
    "\n",
    "while (counter < n):\n",
    "    if fib(i) % k == 0:\n",
    "        counter = counter + 1\n",
    "    i = i + 1\n",
    "else:\n",
    "    i = i - 1\n",
    "    print(fib(i))\n",
    "    print(findIndex(fib(i)))\n"
   ]
  },
  {
   "cell_type": "markdown",
   "metadata": {},
   "source": [
    "**9. Program to print ASCII Value of a character**\n",
    "\n",
    "https://www.geeksforgeeks.org/program-print-ascii-value-character/"
   ]
  },
  {
   "cell_type": "code",
   "execution_count": 6,
   "metadata": {},
   "outputs": [
    {
     "name": "stdout",
     "output_type": "stream",
     "text": [
      "The ASCII value of s is 115\n"
     ]
    }
   ],
   "source": [
    "c = \"s\"\n",
    "\n",
    "print(\"The ASCII value of {0} is {1}\".format(c,ord(c)))"
   ]
  },
  {
   "cell_type": "markdown",
   "metadata": {},
   "source": [
    "**10. Python Program for Sum of squares of first n natural numbers**\n",
    "\n",
    "https://www.geeksforgeeks.org/python-program-for-sum-of-squares-of-first-n-natural-numbers/"
   ]
  },
  {
   "cell_type": "code",
   "execution_count": 10,
   "metadata": {},
   "outputs": [
    {
     "name": "stdout",
     "output_type": "stream",
     "text": [
      "The sum of square of first 5 natual numbers is 55\n"
     ]
    }
   ],
   "source": [
    "def squaresSum(n):\n",
    "    sum = 0\n",
    "    \n",
    "    for i in range(1, n+1):\n",
    "        sum = sum + i**2\n",
    "    \n",
    "    return sum\n",
    "\n",
    "n = 5\n",
    "print(\"The sum of square of first \" + str(n) + \" natual numbers is \" + str(squaresSum(n)))"
   ]
  }
 ],
 "metadata": {
  "kernelspec": {
   "display_name": "Python 3",
   "language": "python",
   "name": "python3"
  },
  "language_info": {
   "codemirror_mode": {
    "name": "ipython",
    "version": 3
   },
   "file_extension": ".py",
   "mimetype": "text/x-python",
   "name": "python",
   "nbconvert_exporter": "python",
   "pygments_lexer": "ipython3",
   "version": "3.7.3"
  }
 },
 "nbformat": 4,
 "nbformat_minor": 2
}
