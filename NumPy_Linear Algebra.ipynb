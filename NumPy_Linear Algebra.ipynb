{
 "cells": [
  {
   "cell_type": "markdown",
   "metadata": {},
   "source": [
    "**1. Write a NumPy program to compute the multiplication of two given matrixes**"
   ]
  },
  {
   "cell_type": "code",
   "execution_count": 1,
   "metadata": {},
   "outputs": [
    {
     "name": "stdout",
     "output_type": "stream",
     "text": [
      "[[1 2]\n",
      " [3 4]]\n"
     ]
    }
   ],
   "source": [
    "import numpy as np\n",
    "\n",
    "p = [[1, 0], [0, 1]]\n",
    "q = [[1, 2], [3, 4]]\n",
    "\n",
    "result = np.dot(p, q)\n",
    "#help(np.dot)\n",
    "\n",
    "print(result)"
   ]
  },
  {
   "cell_type": "markdown",
   "metadata": {},
   "source": [
    "**2. Write a NumPy program to compute the outer product of two given vectors.**"
   ]
  },
  {
   "cell_type": "code",
   "execution_count": 64,
   "metadata": {},
   "outputs": [
    {
     "name": "stdout",
     "output_type": "stream",
     "text": [
      "a. P(F=F1|S==S1)=1/4 P(F=F1|S==S2)=1/3 P(F=F1|S==S3)=0/3\n",
      "b. P(F=F2|S==S1)=1/4 P(F=F2|S==S2)=1/3 P(F=F2|S==S3)=1/3\n",
      "c. P(F=F3|S==S1)=0/4 P(F=F3|S==S2)=1/3 P(F=F3|S==S3)=1/3\n",
      "d. P(F=F4|S==S1)=1/4 P(F=F4|S==S2)=0/3 P(F=F4|S==S3)=1/3\n",
      "e. P(F=F5|S==S1)=1/4 P(F=F5|S==S2)=0/3 P(F=F5|S==S3)=0/3\n"
     ]
    }
   ],
   "source": [
    "def compute_conditional_probabilites(A):\n",
    "    F_values = [\"F1\",\"F2\",\"F3\",\"F4\",\"F5\"]\n",
    "    S_values = [\"S1\",\"S2\",\"S3\"]\n",
    "    \n",
    "    num = 0\n",
    "    deno = 0\n",
    "    l = []\n",
    "         \n",
    "    for i in range(5):\n",
    "        for j in range(3):\n",
    "            num = 0\n",
    "            deno = 0\n",
    "    \n",
    "            for sub_lst in A:\n",
    "                if sub_lst[1] == S_values[j]:\n",
    "                    deno += 1\n",
    "                    if sub_lst[0] == F_values[i]:\n",
    "                        num +=1\n",
    "            \n",
    "            l1 = [num, deno]\n",
    "            l.append(l1)\n",
    "  \n",
    "    print(\"a. P(F=F1|S==S1)=\",l[0][0],\"/\",l[0][1],\" P(F=F1|S==S2)=\",l[1][0],\"/\",l[1][1],\" P(F=F1|S==S3)=\",l[2][0],\"/\",l[2][1], sep=\"\")\n",
    "    print(\"b. P(F=F2|S==S1)=\",l[3][0],\"/\",l[0][1],\" P(F=F2|S==S2)=\",l[4][0],\"/\",l[1][1],\" P(F=F2|S==S3)=\",l[5][0],\"/\",l[2][1], sep=\"\")\n",
    "    print(\"c. P(F=F3|S==S1)=\",l[6][0],\"/\",l[0][1],\" P(F=F3|S==S2)=\",l[7][0],\"/\",l[1][1],\" P(F=F3|S==S3)=\",l[8][0],\"/\",l[2][1], sep=\"\")\n",
    "    print(\"d. P(F=F4|S==S1)=\",l[9][0],\"/\",l[0][1],\" P(F=F4|S==S2)=\",l[10][0],\"/\",l[1][1],\" P(F=F4|S==S3)=\",l[11][0],\"/\",l[2][1], sep=\"\")\n",
    "    print(\"e. P(F=F5|S==S1)=\",l[12][0],\"/\",l[0][1],\" P(F=F5|S==S2)=\",l[13][0],\"/\",l[1][1],\" P(F=F5|S==S3)=\",l[14][0],\"/\",l[2][1], sep=\"\")\n",
    "    \n",
    "\n",
    "A = [[\"F1\",\"S1\"],[\"F2\",\"S2\"],[\"F3\",\"S3\"],[\"F1\",\"S2\"],[\"F2\",\"S3\"],[\"F3\",\"S2\"],[\"F2\",\"S1\"],[\"F4\",\"S1\"],[\"F4\",\"S3\"],[\"F5\",\"S1\"]]\n",
    "compute_conditional_probabilites(A)"
   ]
  }
 ],
 "metadata": {
  "kernelspec": {
   "display_name": "Python 3",
   "language": "python",
   "name": "python3"
  },
  "language_info": {
   "codemirror_mode": {
    "name": "ipython",
    "version": 3
   },
   "file_extension": ".py",
   "mimetype": "text/x-python",
   "name": "python",
   "nbconvert_exporter": "python",
   "pygments_lexer": "ipython3",
   "version": "3.7.3"
  }
 },
 "nbformat": 4,
 "nbformat_minor": 2
}
